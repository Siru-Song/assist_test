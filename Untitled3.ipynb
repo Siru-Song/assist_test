{
  "nbformat": 4,
  "nbformat_minor": 0,
  "metadata": {
    "colab": {
      "provenance": [],
      "authorship_tag": "ABX9TyMUPW/es4voTXxHEI5NJg1z",
      "include_colab_link": true
    },
    "kernelspec": {
      "name": "python3",
      "display_name": "Python 3"
    },
    "language_info": {
      "name": "python"
    }
  },
  "cells": [
    {
      "cell_type": "markdown",
      "metadata": {
        "id": "view-in-github",
        "colab_type": "text"
      },
      "source": [
        "<a href=\"https://colab.research.google.com/github/Siru-Song/assist_test/blob/main/Untitled3.ipynb\" target=\"_parent\"><img src=\"https://colab.research.google.com/assets/colab-badge.svg\" alt=\"Open In Colab\"/></a>"
      ]
    },
    {
      "cell_type": "code",
      "execution_count": null,
      "metadata": {
        "colab": {
          "base_uri": "https://localhost:8080/"
        },
        "id": "gN5aym0mjZB9",
        "outputId": "b1df1763-de95-42e1-858e-c859e153a950"
      },
      "outputs": [
        {
          "output_type": "stream",
          "name": "stdout",
          "text": [
            "Requirement already satisfied: numpy in /usr/local/lib/python3.10/dist-packages (1.25.2)\n",
            "\u001b[31mERROR: Could not find a version that satisfies the requirement random (from versions: none)\u001b[0m\u001b[31m\n",
            "\u001b[0m\u001b[31mERROR: No matching distribution found for random\u001b[0m\u001b[31m\n",
            "\u001b[0m"
          ]
        }
      ],
      "source": [
        "! pip install numpy"
      ]
    },
    {
      "cell_type": "code",
      "source": [
        "import matplotlib.pyplot as plt\n",
        "import numpy as np\n",
        "\n",
        "class PipeEnv:\n",
        "    def __init__(self, grid_size, start, goal, obstacles):\n",
        "        self.grid_size = grid_size\n",
        "        self.start = start\n",
        "        self.goal = goal\n",
        "        self.obstacles = obstacles\n",
        "        self.reset()\n",
        "\n",
        "    def reset(self):\n",
        "        self.position = self.start\n",
        "        self.done = False\n",
        "        return self.position\n",
        "\n",
        "    def step(self, action):\n",
        "        if self.done:\n",
        "            return self.position, 0, self.done\n",
        "\n",
        "        # Define actions: 0=up, 1=right, 2=down, 3=left\n",
        "        actions = [(-1, 0), (0, 1), (1, 0), (0, -1)]\n",
        "        move = actions[action]\n",
        "        new_position = (self.position[0] + move[0], self.position[1] + move[1])\n",
        "\n",
        "        if (0 <= new_position[0] < self.grid_size[0] and\n",
        "            0 <= new_position[1] < self.grid_size[1] and\n",
        "            new_position not in self.obstacles):\n",
        "            self.position = new_position\n",
        "\n",
        "        reward = -1  # default reward for each step\n",
        "        if self.position == self.goal:\n",
        "            reward = 100  # reward for reaching the goal\n",
        "            self.done = True\n",
        "\n",
        "        return self.position, reward, self.done\n",
        "\n",
        "    def render(self):\n",
        "        grid = np.zeros(self.grid_size)\n",
        "        grid[self.goal] = 2  # goal\n",
        "        for obs in self.obstacles:\n",
        "            grid[obs] = -1  # obstacles\n",
        "        grid[self.position] = 1  # current position\n",
        "        plt.imshow(grid, cmap='coolwarm', interpolation='nearest')\n",
        "        plt.show()\n"
      ],
      "metadata": {
        "id": "HxVfkUwLjZpo"
      },
      "execution_count": 7,
      "outputs": []
    },
    {
      "cell_type": "code",
      "source": [
        "class QLearningAgent:\n",
        "    def __init__(self, env, alpha=0.1, gamma=0.99, epsilon=0.1):\n",
        "        self.env = env\n",
        "        self.alpha = alpha\n",
        "        self.gamma = gamma\n",
        "        self.epsilon = epsilon\n",
        "        self.q_table = {}\n",
        "\n",
        "    def get_q_value(self, state, action):\n",
        "        return self.q_table.get((state, action), 0.0)\n",
        "\n",
        "    def choose_action(self, state, explore=True):\n",
        "        if explore and random.uniform(0, 1) < self.epsilon:\n",
        "            return random.randint(0, 3)\n",
        "        else:\n",
        "            q_values = [self.get_q_value(state, a) for a in range(4)]\n",
        "            return np.argmax(q_values)\n",
        "\n",
        "    def update_q_table(self, state, action, reward, next_state):\n",
        "        best_next_action = np.argmax([self.get_q_value(next_state, a) for a in range(4)])\n",
        "        td_target = reward + self.gamma * self.get_q_value(next_state, best_next_action)\n",
        "        td_error = td_target - self.get_q_value(state, action)\n",
        "        new_q_value = self.get_q_value(state, action) + self.alpha * td_error\n",
        "        self.q_table[(state, action)] = new_q_value\n",
        "\n",
        "    def train(self, episodes):\n",
        "        for episode in range(episodes):\n",
        "            state = self.env.reset()\n",
        "            total_reward = 0\n",
        "            steps = 0\n",
        "            while True:\n",
        "                action = self.choose_action(state)\n",
        "                next_state, reward, done = self.env.step(action)\n",
        "                self.update_q_table(state, action, reward, next_state)\n",
        "                state = next_state\n",
        "                total_reward += reward\n",
        "                steps += 1\n",
        "                if done:\n",
        "                    break\n",
        "            print(f\"Episode {episode + 1}: Total Reward: {total_reward}, Steps: {steps}\")\n",
        "\n",
        "    def visualize_path(self):\n",
        "        state = self.env.reset()\n",
        "        self.env.render()\n",
        "        while True:\n",
        "            action = self.choose_action(state, explore=False)\n",
        "            state, _, done = self.env.step(action)\n",
        "            self.env.render()\n",
        "            if done:\n",
        "                break\n",
        "\n",
        "# Example usage\n",
        "env = PipeEnv(grid_size=(5, 5), start=(0, 0), goal=(4, 4), obstacles=[(2, 2), (3, 3)])\n",
        "agent = QLearningAgent(env)\n",
        "agent.train(episodes=100)\n",
        "agent.visualize_path()\n"
      ],
      "metadata": {
        "colab": {
          "base_uri": "https://localhost:8080/",
          "height": 1000
        },
        "id": "AQpYT_ILjaFY",
        "outputId": "6741f7b5-c0a5-476f-b0ce-ddba3f6bcf9f"
      },
      "execution_count": 8,
      "outputs": [
        {
          "output_type": "stream",
          "name": "stdout",
          "text": [
            "Episode 1: Total Reward: 1, Steps: 100\n",
            "Episode 2: Total Reward: 63, Steps: 38\n",
            "Episode 3: Total Reward: 11, Steps: 90\n",
            "Episode 4: Total Reward: 77, Steps: 24\n",
            "Episode 5: Total Reward: 61, Steps: 40\n",
            "Episode 6: Total Reward: 76, Steps: 25\n",
            "Episode 7: Total Reward: 54, Steps: 47\n",
            "Episode 8: Total Reward: 56, Steps: 45\n",
            "Episode 9: Total Reward: 83, Steps: 18\n",
            "Episode 10: Total Reward: 87, Steps: 14\n",
            "Episode 11: Total Reward: 72, Steps: 29\n",
            "Episode 12: Total Reward: 82, Steps: 19\n",
            "Episode 13: Total Reward: 85, Steps: 16\n",
            "Episode 14: Total Reward: 74, Steps: 27\n",
            "Episode 15: Total Reward: 84, Steps: 17\n",
            "Episode 16: Total Reward: 80, Steps: 21\n",
            "Episode 17: Total Reward: 80, Steps: 21\n",
            "Episode 18: Total Reward: 92, Steps: 9\n",
            "Episode 19: Total Reward: 76, Steps: 25\n",
            "Episode 20: Total Reward: 88, Steps: 13\n",
            "Episode 21: Total Reward: 91, Steps: 10\n",
            "Episode 22: Total Reward: 83, Steps: 18\n",
            "Episode 23: Total Reward: 83, Steps: 18\n",
            "Episode 24: Total Reward: 82, Steps: 19\n",
            "Episode 25: Total Reward: 93, Steps: 8\n",
            "Episode 26: Total Reward: 77, Steps: 24\n",
            "Episode 27: Total Reward: 91, Steps: 10\n",
            "Episode 28: Total Reward: 88, Steps: 13\n",
            "Episode 29: Total Reward: 87, Steps: 14\n",
            "Episode 30: Total Reward: 88, Steps: 13\n",
            "Episode 31: Total Reward: 93, Steps: 8\n",
            "Episode 32: Total Reward: 89, Steps: 12\n",
            "Episode 33: Total Reward: 91, Steps: 10\n",
            "Episode 34: Total Reward: 93, Steps: 8\n",
            "Episode 35: Total Reward: 89, Steps: 12\n",
            "Episode 36: Total Reward: 93, Steps: 8\n",
            "Episode 37: Total Reward: 86, Steps: 15\n",
            "Episode 38: Total Reward: 93, Steps: 8\n",
            "Episode 39: Total Reward: 93, Steps: 8\n",
            "Episode 40: Total Reward: 90, Steps: 11\n",
            "Episode 41: Total Reward: 92, Steps: 9\n",
            "Episode 42: Total Reward: 92, Steps: 9\n",
            "Episode 43: Total Reward: 90, Steps: 11\n",
            "Episode 44: Total Reward: 92, Steps: 9\n",
            "Episode 45: Total Reward: 93, Steps: 8\n",
            "Episode 46: Total Reward: 89, Steps: 12\n",
            "Episode 47: Total Reward: 93, Steps: 8\n",
            "Episode 48: Total Reward: 93, Steps: 8\n",
            "Episode 49: Total Reward: 93, Steps: 8\n",
            "Episode 50: Total Reward: 89, Steps: 12\n",
            "Episode 51: Total Reward: 93, Steps: 8\n",
            "Episode 52: Total Reward: 91, Steps: 10\n",
            "Episode 53: Total Reward: 91, Steps: 10\n",
            "Episode 54: Total Reward: 93, Steps: 8\n",
            "Episode 55: Total Reward: 91, Steps: 10\n",
            "Episode 56: Total Reward: 91, Steps: 10\n",
            "Episode 57: Total Reward: 93, Steps: 8\n",
            "Episode 58: Total Reward: 93, Steps: 8\n",
            "Episode 59: Total Reward: 93, Steps: 8\n",
            "Episode 60: Total Reward: 90, Steps: 11\n",
            "Episode 61: Total Reward: 91, Steps: 10\n",
            "Episode 62: Total Reward: 93, Steps: 8\n",
            "Episode 63: Total Reward: 93, Steps: 8\n",
            "Episode 64: Total Reward: 90, Steps: 11\n",
            "Episode 65: Total Reward: 91, Steps: 10\n",
            "Episode 66: Total Reward: 93, Steps: 8\n",
            "Episode 67: Total Reward: 90, Steps: 11\n",
            "Episode 68: Total Reward: 92, Steps: 9\n",
            "Episode 69: Total Reward: 93, Steps: 8\n",
            "Episode 70: Total Reward: 93, Steps: 8\n",
            "Episode 71: Total Reward: 91, Steps: 10\n",
            "Episode 72: Total Reward: 89, Steps: 12\n",
            "Episode 73: Total Reward: 91, Steps: 10\n",
            "Episode 74: Total Reward: 93, Steps: 8\n",
            "Episode 75: Total Reward: 91, Steps: 10\n",
            "Episode 76: Total Reward: 91, Steps: 10\n",
            "Episode 77: Total Reward: 90, Steps: 11\n",
            "Episode 78: Total Reward: 93, Steps: 8\n",
            "Episode 79: Total Reward: 93, Steps: 8\n",
            "Episode 80: Total Reward: 91, Steps: 10\n",
            "Episode 81: Total Reward: 93, Steps: 8\n",
            "Episode 82: Total Reward: 91, Steps: 10\n",
            "Episode 83: Total Reward: 91, Steps: 10\n",
            "Episode 84: Total Reward: 93, Steps: 8\n",
            "Episode 85: Total Reward: 93, Steps: 8\n",
            "Episode 86: Total Reward: 93, Steps: 8\n",
            "Episode 87: Total Reward: 93, Steps: 8\n",
            "Episode 88: Total Reward: 93, Steps: 8\n",
            "Episode 89: Total Reward: 93, Steps: 8\n",
            "Episode 90: Total Reward: 93, Steps: 8\n",
            "Episode 91: Total Reward: 93, Steps: 8\n",
            "Episode 92: Total Reward: 93, Steps: 8\n",
            "Episode 93: Total Reward: 89, Steps: 12\n",
            "Episode 94: Total Reward: 93, Steps: 8\n",
            "Episode 95: Total Reward: 91, Steps: 10\n",
            "Episode 96: Total Reward: 93, Steps: 8\n",
            "Episode 97: Total Reward: 93, Steps: 8\n",
            "Episode 98: Total Reward: 87, Steps: 14\n",
            "Episode 99: Total Reward: 93, Steps: 8\n",
            "Episode 100: Total Reward: 93, Steps: 8\n"
          ]
        },
        {
          "output_type": "display_data",
          "data": {
            "text/plain": [
              "<Figure size 640x480 with 1 Axes>"
            ],
            "image/png": "[encoded data removed]"
          },
          "metadata": {}
        },
        {
          "output_type": "display_data",
          "data": {
            "text/plain": [
              "<Figure size 640x480 with 1 Axes>"
            ],
            "image/png": "[encoded data removed]"
          },
          "metadata": {}
        },
        {
          "output_type": "display_data",
          "data": {
            "text/plain": [
              "<Figure size 640x480 with 1 Axes>"
            ],
            "image/png": "[encoded data removed]"
          },
          "metadata": {}
        },
        {
          "output_type": "display_data",
          "data": {
            "text/plain": [
              "<Figure size 640x480 with 1 Axes>"
            ],
            "image/png": "[encoded data removed]"
          },
          "metadata": {}
        },
        {
          "output_type": "display_data",
          "data": {
            "text/plain": [
              "<Figure size 640x480 with 1 Axes>"
            ],
            "image/png": "[encoded data removed]"
          },
          "metadata": {}
        },
        {
          "output_type": "display_data",
          "data": {
            "text/plain": [
              "<Figure size 640x480 with 1 Axes>"
            ],
            "image/png": "[encoded data removed]"
          },
          "metadata": {}
        },
        {
          "output_type": "display_data",
          "data": {
            "text/plain": [
              "<Figure size 640x480 with 1 Axes>"
            ],
            "image/png": "[encoded data removed]"
          },
          "metadata": {}
        },
        {
          "output_type": "display_data",
          "data": {
            "text/plain": [
              "<Figure size 640x480 with 1 Axes>"
            ],
            "image/png": "[encoded data removed]"
          },
          "metadata": {}
        },
        {
          "output_type": "display_data",
          "data": {
            "text/plain": [
              "<Figure size 640x480 with 1 Axes>"
            ],
            "image/png": "[encoded data removed]"
          },
          "metadata": {}
        }
      ]
    }
  ]
}